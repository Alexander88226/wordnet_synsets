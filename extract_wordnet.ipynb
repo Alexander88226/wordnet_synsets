{
 "cells": [
  {
   "cell_type": "markdown",
   "metadata": {},
   "source": [
    "# 1. Import Needed Libraries"
   ]
  },
  {
   "cell_type": "code",
   "execution_count": 1,
   "metadata": {},
   "outputs": [],
   "source": [
    "import nltk\n",
    "# nltk.download()\n",
    "import pandas as pd\n",
    "from nltk.corpus import wordnet as wn"
   ]
  },
  {
   "cell_type": "markdown",
   "metadata": {},
   "source": [
    "# 2. Load Data"
   ]
  },
  {
   "cell_type": "code",
   "execution_count": 2,
   "metadata": {},
   "outputs": [
    {
     "data": {
      "text/html": [
       "<div>\n",
       "<style scoped>\n",
       "    .dataframe tbody tr th:only-of-type {\n",
       "        vertical-align: middle;\n",
       "    }\n",
       "\n",
       "    .dataframe tbody tr th {\n",
       "        vertical-align: top;\n",
       "    }\n",
       "\n",
       "    .dataframe thead th {\n",
       "        text-align: right;\n",
       "    }\n",
       "</style>\n",
       "<table border=\"1\" class=\"dataframe\">\n",
       "  <thead>\n",
       "    <tr style=\"text-align: right;\">\n",
       "      <th></th>\n",
       "      <th>term</th>\n",
       "    </tr>\n",
       "  </thead>\n",
       "  <tbody>\n",
       "    <tr>\n",
       "      <th>0</th>\n",
       "      <td>A</td>\n",
       "    </tr>\n",
       "    <tr>\n",
       "      <th>1</th>\n",
       "      <td>A-</td>\n",
       "    </tr>\n",
       "    <tr>\n",
       "      <th>2</th>\n",
       "      <td>A 1</td>\n",
       "    </tr>\n",
       "    <tr>\n",
       "      <th>3</th>\n",
       "      <td>Aam</td>\n",
       "    </tr>\n",
       "    <tr>\n",
       "      <th>4</th>\n",
       "      <td>Aard-vark</td>\n",
       "    </tr>\n",
       "  </tbody>\n",
       "</table>\n",
       "</div>"
      ],
      "text/plain": [
       "        term\n",
       "0          A\n",
       "1         A-\n",
       "2        A 1\n",
       "3        Aam\n",
       "4  Aard-vark"
      ]
     },
     "execution_count": 2,
     "metadata": {},
     "output_type": "execute_result"
    }
   ],
   "source": [
    "file_path = '250words.xlsx'\n",
    "words_dataframe = pd.read_excel(file_path)\n",
    "words_dataframe.head()"
   ]
  },
  {
   "cell_type": "markdown",
   "metadata": {},
   "source": [
    "# Define join fuction"
   ]
  },
  {
   "cell_type": "code",
   "execution_count": 3,
   "metadata": {},
   "outputs": [],
   "source": [
    "def join_list(words_list, seperator=\", \"):\n",
    "    return seperator.join(words_list)"
   ]
  },
  {
   "cell_type": "markdown",
   "metadata": {},
   "source": [
    "# 3. Main Process"
   ]
  },
  {
   "cell_type": "code",
   "execution_count": 4,
   "metadata": {},
   "outputs": [
    {
     "data": {
      "text/html": [
       "<div>\n",
       "<style scoped>\n",
       "    .dataframe tbody tr th:only-of-type {\n",
       "        vertical-align: middle;\n",
       "    }\n",
       "\n",
       "    .dataframe tbody tr th {\n",
       "        vertical-align: top;\n",
       "    }\n",
       "\n",
       "    .dataframe thead th {\n",
       "        text-align: right;\n",
       "    }\n",
       "</style>\n",
       "<table border=\"1\" class=\"dataframe\">\n",
       "  <thead>\n",
       "    <tr style=\"text-align: right;\">\n",
       "      <th></th>\n",
       "      <th>Term</th>\n",
       "      <th>Synsets</th>\n",
       "      <th>Synonym</th>\n",
       "      <th>Antonym</th>\n",
       "      <th>Part of Speech</th>\n",
       "      <th>Definition</th>\n",
       "      <th>Lemmas</th>\n",
       "      <th>Examples</th>\n",
       "    </tr>\n",
       "  </thead>\n",
       "  <tbody>\n",
       "    <tr>\n",
       "      <th>0</th>\n",
       "      <td>A</td>\n",
       "      <td>angstrom.n.01</td>\n",
       "      <td>angstrom, angstrom_unit, A</td>\n",
       "      <td></td>\n",
       "      <td>noun.quantity</td>\n",
       "      <td>a metric unit of length equal to one ten billi...</td>\n",
       "      <td>angstrom, angstrom_unit, A</td>\n",
       "      <td></td>\n",
       "    </tr>\n",
       "    <tr>\n",
       "      <th>1</th>\n",
       "      <td>A</td>\n",
       "      <td>vitamin_a.n.01</td>\n",
       "      <td>vitamin_A, antiophthalmic_factor, axerophthol, A</td>\n",
       "      <td></td>\n",
       "      <td>noun.substance</td>\n",
       "      <td>any of several fat-soluble vitamins essential ...</td>\n",
       "      <td>vitamin_A, antiophthalmic_factor, axerophthol, A</td>\n",
       "      <td></td>\n",
       "    </tr>\n",
       "    <tr>\n",
       "      <th>2</th>\n",
       "      <td>A</td>\n",
       "      <td>deoxyadenosine_monophosphate.n.01</td>\n",
       "      <td>deoxyadenosine_monophosphate, A</td>\n",
       "      <td></td>\n",
       "      <td>noun.substance</td>\n",
       "      <td>one of the four nucleotides used in building D...</td>\n",
       "      <td>deoxyadenosine_monophosphate, A</td>\n",
       "      <td></td>\n",
       "    </tr>\n",
       "    <tr>\n",
       "      <th>3</th>\n",
       "      <td>A</td>\n",
       "      <td>adenine.n.01</td>\n",
       "      <td>adenine, A</td>\n",
       "      <td></td>\n",
       "      <td>noun.substance</td>\n",
       "      <td>(biochemistry) purine base found in DNA and RN...</td>\n",
       "      <td>adenine, A</td>\n",
       "      <td></td>\n",
       "    </tr>\n",
       "    <tr>\n",
       "      <th>4</th>\n",
       "      <td>A</td>\n",
       "      <td>ampere.n.02</td>\n",
       "      <td>ampere, amp, A</td>\n",
       "      <td></td>\n",
       "      <td>noun.quantity</td>\n",
       "      <td>the basic unit of electric current adopted und...</td>\n",
       "      <td>ampere, amp, A</td>\n",
       "      <td>a typical household circuit carries 15 to 50 amps</td>\n",
       "    </tr>\n",
       "  </tbody>\n",
       "</table>\n",
       "</div>"
      ],
      "text/plain": [
       "  Term                            Synsets  \\\n",
       "0    A                      angstrom.n.01   \n",
       "1    A                     vitamin_a.n.01   \n",
       "2    A  deoxyadenosine_monophosphate.n.01   \n",
       "3    A                       adenine.n.01   \n",
       "4    A                        ampere.n.02   \n",
       "\n",
       "                                            Synonym Antonym  Part of Speech  \\\n",
       "0                        angstrom, angstrom_unit, A           noun.quantity   \n",
       "1  vitamin_A, antiophthalmic_factor, axerophthol, A          noun.substance   \n",
       "2                   deoxyadenosine_monophosphate, A          noun.substance   \n",
       "3                                        adenine, A          noun.substance   \n",
       "4                                    ampere, amp, A           noun.quantity   \n",
       "\n",
       "                                          Definition  \\\n",
       "0  a metric unit of length equal to one ten billi...   \n",
       "1  any of several fat-soluble vitamins essential ...   \n",
       "2  one of the four nucleotides used in building D...   \n",
       "3  (biochemistry) purine base found in DNA and RN...   \n",
       "4  the basic unit of electric current adopted und...   \n",
       "\n",
       "                                             Lemmas  \\\n",
       "0                        angstrom, angstrom_unit, A   \n",
       "1  vitamin_A, antiophthalmic_factor, axerophthol, A   \n",
       "2                   deoxyadenosine_monophosphate, A   \n",
       "3                                        adenine, A   \n",
       "4                                    ampere, amp, A   \n",
       "\n",
       "                                            Examples  \n",
       "0                                                     \n",
       "1                                                     \n",
       "2                                                     \n",
       "3                                                     \n",
       "4  a typical household circuit carries 15 to 50 amps  "
      ]
     },
     "execution_count": 4,
     "metadata": {},
     "output_type": "execute_result"
    }
   ],
   "source": [
    "wordnet_dataframe = pd.DataFrame(columns=['Term', 'Synsets', 'Synonym', 'Antonym', 'Part of Speech', 'Definition', 'Lemmas', 'Examples'])\n",
    "for i, term in words_dataframe.iterrows():\n",
    "    for syn in wn.synsets(term['term']):\n",
    "        synonyms = []\n",
    "        antonyms = []\n",
    "        for l in syn.lemmas():\n",
    "            synonyms.append(l.name())\n",
    "            for ant in l.antonyms():\n",
    "                antonyms.append(ant.name())\n",
    "        wordnet_dataframe = wordnet_dataframe.append(\n",
    "            {\n",
    "                'Term':term['term'],\n",
    "                'Synsets': syn.name(),\n",
    "                'Synonym':join_list(synonyms),\n",
    "                'Antonym':join_list(antonyms), \n",
    "                'Part of Speech':syn.lexname(), \n",
    "                'Definition':syn.definition(), \n",
    "                'Lemmas':join_list(syn.lemma_names()), \n",
    "                'Examples':join_list(syn.examples())\n",
    "            },\n",
    "            ignore_index=True\n",
    "        )            \n",
    "wordnet_dataframe.head()"
   ]
  },
  {
   "cell_type": "code",
   "execution_count": 5,
   "metadata": {},
   "outputs": [],
   "source": [
    "wordnet_dataframe.to_excel(\"output.xlsx\")"
   ]
  },
  {
   "cell_type": "code",
   "execution_count": null,
   "metadata": {},
   "outputs": [],
   "source": []
  }
 ],
 "metadata": {
  "kernelspec": {
   "display_name": "nlp_env",
   "language": "python",
   "name": "nlp_env"
  },
  "language_info": {
   "codemirror_mode": {
    "name": "ipython",
    "version": 3
   },
   "file_extension": ".py",
   "mimetype": "text/x-python",
   "name": "python",
   "nbconvert_exporter": "python",
   "pygments_lexer": "ipython3",
   "version": "3.8.1"
  }
 },
 "nbformat": 4,
 "nbformat_minor": 4
}
