{
 "cells": [
  {
   "cell_type": "markdown",
   "metadata": {},
   "source": [
    "# 1. Import Needed Libraries"
   ]
  },
  {
   "cell_type": "code",
   "execution_count": 22,
   "metadata": {},
   "outputs": [],
   "source": [
    "import nltk\n",
    "# nltk.download()\n",
    "import pandas as pd\n",
    "from nltk.corpus import wordnet as wn"
   ]
  },
  {
   "cell_type": "markdown",
   "metadata": {},
   "source": [
    "# 2. Load Data"
   ]
  },
  {
   "cell_type": "code",
   "execution_count": 23,
   "metadata": {},
   "outputs": [
    {
     "data": {
      "text/html": [
       "<div>\n",
       "<style scoped>\n",
       "    .dataframe tbody tr th:only-of-type {\n",
       "        vertical-align: middle;\n",
       "    }\n",
       "\n",
       "    .dataframe tbody tr th {\n",
       "        vertical-align: top;\n",
       "    }\n",
       "\n",
       "    .dataframe thead th {\n",
       "        text-align: right;\n",
       "    }\n",
       "</style>\n",
       "<table border=\"1\" class=\"dataframe\">\n",
       "  <thead>\n",
       "    <tr style=\"text-align: right;\">\n",
       "      <th></th>\n",
       "      <th>term</th>\n",
       "    </tr>\n",
       "  </thead>\n",
       "  <tbody>\n",
       "    <tr>\n",
       "      <th>0</th>\n",
       "      <td>A</td>\n",
       "    </tr>\n",
       "    <tr>\n",
       "      <th>1</th>\n",
       "      <td>A-</td>\n",
       "    </tr>\n",
       "    <tr>\n",
       "      <th>2</th>\n",
       "      <td>A 1</td>\n",
       "    </tr>\n",
       "    <tr>\n",
       "      <th>3</th>\n",
       "      <td>Aam</td>\n",
       "    </tr>\n",
       "    <tr>\n",
       "      <th>4</th>\n",
       "      <td>Aard-vark</td>\n",
       "    </tr>\n",
       "  </tbody>\n",
       "</table>\n",
       "</div>"
      ],
      "text/plain": [
       "        term\n",
       "0          A\n",
       "1         A-\n",
       "2        A 1\n",
       "3        Aam\n",
       "4  Aard-vark"
      ]
     },
     "execution_count": 23,
     "metadata": {},
     "output_type": "execute_result"
    }
   ],
   "source": [
    "file_path = '250words.xlsx'\n",
    "words_dataframe = pd.read_excel(file_path)\n",
    "words_dataframe.head()"
   ]
  },
  {
   "cell_type": "markdown",
   "metadata": {},
   "source": [
    "# Define join fuction"
   ]
  },
  {
   "cell_type": "code",
   "execution_count": 24,
   "metadata": {},
   "outputs": [],
   "source": [
    "def join_list(words_list, seperator=\", \"):\n",
    "    return seperator.join(words_list)"
   ]
  },
  {
   "cell_type": "markdown",
   "metadata": {},
   "source": [
    "# 3. Main Process"
   ]
  },
  {
   "cell_type": "code",
   "execution_count": 26,
   "metadata": {},
   "outputs": [
    {
     "data": {
      "text/html": [
       "<div>\n",
       "<style scoped>\n",
       "    .dataframe tbody tr th:only-of-type {\n",
       "        vertical-align: middle;\n",
       "    }\n",
       "\n",
       "    .dataframe tbody tr th {\n",
       "        vertical-align: top;\n",
       "    }\n",
       "\n",
       "    .dataframe thead th {\n",
       "        text-align: right;\n",
       "    }\n",
       "</style>\n",
       "<table border=\"1\" class=\"dataframe\">\n",
       "  <thead>\n",
       "    <tr style=\"text-align: right;\">\n",
       "      <th></th>\n",
       "      <th>Term</th>\n",
       "      <th>Synsets</th>\n",
       "      <th>Synonym</th>\n",
       "      <th>Antonym</th>\n",
       "      <th>Part of Speech</th>\n",
       "      <th>Definition</th>\n",
       "      <th>Lemmas</th>\n",
       "      <th>Examples</th>\n",
       "    </tr>\n",
       "  </thead>\n",
       "  <tbody>\n",
       "    <tr>\n",
       "      <th>0</th>\n",
       "      <td>A</td>\n",
       "      <td>angstrom.n.01</td>\n",
       "      <td>angstrom</td>\n",
       "      <td></td>\n",
       "      <td>noun.quantity</td>\n",
       "      <td>a metric unit of length equal to one ten billi...</td>\n",
       "      <td>angstrom, angstrom_unit, A</td>\n",
       "      <td></td>\n",
       "    </tr>\n",
       "    <tr>\n",
       "      <th>1</th>\n",
       "      <td>A</td>\n",
       "      <td>angstrom.n.01</td>\n",
       "      <td>angstrom_unit</td>\n",
       "      <td></td>\n",
       "      <td>noun.quantity</td>\n",
       "      <td>a metric unit of length equal to one ten billi...</td>\n",
       "      <td>angstrom, angstrom_unit, A</td>\n",
       "      <td></td>\n",
       "    </tr>\n",
       "    <tr>\n",
       "      <th>2</th>\n",
       "      <td>A</td>\n",
       "      <td>angstrom.n.01</td>\n",
       "      <td>A</td>\n",
       "      <td></td>\n",
       "      <td>noun.quantity</td>\n",
       "      <td>a metric unit of length equal to one ten billi...</td>\n",
       "      <td>angstrom, angstrom_unit, A</td>\n",
       "      <td></td>\n",
       "    </tr>\n",
       "    <tr>\n",
       "      <th>3</th>\n",
       "      <td>A</td>\n",
       "      <td>vitamin_a.n.01</td>\n",
       "      <td>vitamin_A</td>\n",
       "      <td></td>\n",
       "      <td>noun.substance</td>\n",
       "      <td>any of several fat-soluble vitamins essential ...</td>\n",
       "      <td>vitamin_A, antiophthalmic_factor, axerophthol, A</td>\n",
       "      <td></td>\n",
       "    </tr>\n",
       "    <tr>\n",
       "      <th>4</th>\n",
       "      <td>A</td>\n",
       "      <td>vitamin_a.n.01</td>\n",
       "      <td>antiophthalmic_factor</td>\n",
       "      <td></td>\n",
       "      <td>noun.substance</td>\n",
       "      <td>any of several fat-soluble vitamins essential ...</td>\n",
       "      <td>vitamin_A, antiophthalmic_factor, axerophthol, A</td>\n",
       "      <td></td>\n",
       "    </tr>\n",
       "  </tbody>\n",
       "</table>\n",
       "</div>"
      ],
      "text/plain": [
       "  Term         Synsets                Synonym Antonym  Part of Speech  \\\n",
       "0    A   angstrom.n.01               angstrom           noun.quantity   \n",
       "1    A   angstrom.n.01          angstrom_unit           noun.quantity   \n",
       "2    A   angstrom.n.01                      A           noun.quantity   \n",
       "3    A  vitamin_a.n.01              vitamin_A          noun.substance   \n",
       "4    A  vitamin_a.n.01  antiophthalmic_factor          noun.substance   \n",
       "\n",
       "                                          Definition  \\\n",
       "0  a metric unit of length equal to one ten billi...   \n",
       "1  a metric unit of length equal to one ten billi...   \n",
       "2  a metric unit of length equal to one ten billi...   \n",
       "3  any of several fat-soluble vitamins essential ...   \n",
       "4  any of several fat-soluble vitamins essential ...   \n",
       "\n",
       "                                             Lemmas Examples  \n",
       "0                        angstrom, angstrom_unit, A           \n",
       "1                        angstrom, angstrom_unit, A           \n",
       "2                        angstrom, angstrom_unit, A           \n",
       "3  vitamin_A, antiophthalmic_factor, axerophthol, A           \n",
       "4  vitamin_A, antiophthalmic_factor, axerophthol, A           "
      ]
     },
     "execution_count": 26,
     "metadata": {},
     "output_type": "execute_result"
    }
   ],
   "source": [
    "wordnet_dataframe = pd.DataFrame(columns=['Term', 'Synsets', 'Synonym', 'Antonym', 'Part of Speech', 'Definition', 'Lemmas', 'Examples'])\n",
    "for i, term in words_dataframe.iterrows():\n",
    "    for syn in wn.synsets(term['term']):\n",
    "\n",
    "        for l in syn.lemmas():\n",
    "            antonyms = ''\n",
    "            if l.antonyms():\n",
    "                antonyms = l.antonyms()[0].name()           \n",
    "            wordnet_dataframe = wordnet_dataframe.append(\n",
    "                {\n",
    "                    'Term':term['term'],\n",
    "                    'Synsets': syn.name(),\n",
    "                    'Synonym':l.name(),\n",
    "                    'Antonym':antonyms, \n",
    "                    'Part of Speech':syn.lexname(), \n",
    "                    'Definition':syn.definition(), \n",
    "                    'Lemmas':join_list(syn.lemma_names()), \n",
    "                    'Examples':join_list(syn.examples())\n",
    "                },\n",
    "                ignore_index=True\n",
    "            )            \n",
    "wordnet_dataframe.head()"
   ]
  },
  {
   "cell_type": "code",
   "execution_count": 28,
   "metadata": {},
   "outputs": [],
   "source": [
    "wordnet_dataframe.to_excel(\"output.xlsx\")"
   ]
  },
  {
   "cell_type": "code",
   "execution_count": null,
   "metadata": {},
   "outputs": [],
   "source": []
  }
 ],
 "metadata": {
  "kernelspec": {
   "display_name": "nlp_env",
   "language": "python",
   "name": "nlp_env"
  },
  "language_info": {
   "codemirror_mode": {
    "name": "ipython",
    "version": 3
   },
   "file_extension": ".py",
   "mimetype": "text/x-python",
   "name": "python",
   "nbconvert_exporter": "python",
   "pygments_lexer": "ipython3",
   "version": "3.8.1"
  }
 },
 "nbformat": 4,
 "nbformat_minor": 4
}
